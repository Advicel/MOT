{
 "cells": [
  {
   "cell_type": "code",
   "execution_count": 5,
   "metadata": {
    "scrolled": true
   },
   "outputs": [
    {
     "name": "stdout",
     "output_type": "stream",
     "text": [
      "Parsing /home/viktor/darkflow/cfg/yolo.cfg\n",
      "Loading /home/viktor/darkflow/bin/yolov2.weights ...\n",
      "Successfully identified 203934260 bytes\n",
      "Finished in 0.0325040817261s\n",
      "Model has a coco model name, loading coco labels.\n"
     ]
    },
    {
     "ename": "IOError",
     "evalue": "[Errno 2] No such file or directory: './cfg/coco.names'",
     "output_type": "error",
     "traceback": [
      "\u001b[0;31m---------------------------------------------------------------------------\u001b[0m",
      "\u001b[0;31mIOError\u001b[0m                                   Traceback (most recent call last)",
      "\u001b[0;32m<ipython-input-5-45721aeed747>\u001b[0m in \u001b[0;36m<module>\u001b[0;34m()\u001b[0m\n\u001b[1;32m      5\u001b[0m \u001b[0mcap\u001b[0m \u001b[0;34m=\u001b[0m \u001b[0mcv2\u001b[0m\u001b[0;34m.\u001b[0m\u001b[0mVideoCapture\u001b[0m\u001b[0;34m(\u001b[0m\u001b[0;34m\"/home/viktor/darkflow/1598.avi\"\u001b[0m\u001b[0;34m)\u001b[0m\u001b[0;34m\u001b[0m\u001b[0m\n\u001b[1;32m      6\u001b[0m \u001b[0moptions\u001b[0m \u001b[0;34m=\u001b[0m \u001b[0;34m{\u001b[0m\u001b[0;34m\"model\"\u001b[0m\u001b[0;34m:\u001b[0m \u001b[0;34m\"/home/viktor/darkflow/cfg/yolo.cfg\"\u001b[0m\u001b[0;34m,\u001b[0m \u001b[0;34m\"load\"\u001b[0m\u001b[0;34m:\u001b[0m \u001b[0;34m\"/home/viktor/darkflow/bin/yolov2.weights\"\u001b[0m\u001b[0;34m,\u001b[0m \u001b[0;34m\"threshold\"\u001b[0m\u001b[0;34m:\u001b[0m \u001b[0;36m0.1\u001b[0m\u001b[0;34m}\u001b[0m\u001b[0;34m\u001b[0m\u001b[0m\n\u001b[0;32m----> 7\u001b[0;31m \u001b[0mtfnet\u001b[0m \u001b[0;34m=\u001b[0m \u001b[0mTFNet\u001b[0m\u001b[0;34m(\u001b[0m\u001b[0moptions\u001b[0m\u001b[0;34m)\u001b[0m\u001b[0;34m\u001b[0m\u001b[0m\n\u001b[0m\u001b[1;32m      8\u001b[0m \u001b[0;32mwhile\u001b[0m\u001b[0;34m(\u001b[0m\u001b[0mTrue\u001b[0m\u001b[0;34m)\u001b[0m\u001b[0;34m:\u001b[0m\u001b[0;34m\u001b[0m\u001b[0m\n\u001b[1;32m      9\u001b[0m     \u001b[0;31m# Capture frame-by-frame\u001b[0m\u001b[0;34m\u001b[0m\u001b[0;34m\u001b[0m\u001b[0m\n",
      "\u001b[0;32m/usr/local/lib/python2.7/dist-packages/darkflow/net/build.pyc\u001b[0m in \u001b[0;36m__init__\u001b[0;34m(self, FLAGS, darknet)\u001b[0m\n",
      "\u001b[0;32m/usr/local/lib/python2.7/dist-packages/darkflow/net/framework.pyc\u001b[0m in \u001b[0;36mcreate_framework\u001b[0;34m(meta, FLAGS)\u001b[0m\n",
      "\u001b[0;32m/usr/local/lib/python2.7/dist-packages/darkflow/net/framework.pyc\u001b[0m in \u001b[0;36m__init__\u001b[0;34m(self, meta, FLAGS)\u001b[0m\n",
      "\u001b[0;32m/usr/local/lib/python2.7/dist-packages/darkflow/net/yolo/__init__.pyc\u001b[0m in \u001b[0;36mconstructor\u001b[0;34m(self, meta, FLAGS)\u001b[0m\n",
      "\u001b[0;32m/usr/local/lib/python2.7/dist-packages/darkflow/net/yolo/misc.pyc\u001b[0m in \u001b[0;36mlabels\u001b[0;34m(meta, FLAGS)\u001b[0m\n",
      "\u001b[0;31mIOError\u001b[0m: [Errno 2] No such file or directory: './cfg/coco.names'"
     ]
    }
   ],
   "source": [
    "import numpy as np\n",
    "import cv2\n",
    "from darkflow.net.build import TFNet\n",
    "\n",
    "cap = cv2.VideoCapture(\"/home/viktor/darkflow/1598.avi\")\n",
    "options = {\"model\": \"/home/viktor/darkflow/cfg/yolo.cfg\", \"load\": \"/home/viktor/darkflow/bin/yolov2.weights\", \"threshold\": 0.1}\n",
    "tfnet = TFNet(options)\n",
    "while(True):\n",
    "    # Capture frame-by-frame\n",
    "    ret, frame = cap.read()\n",
    "    \n",
    "    # Our operations on the frame come here\n",
    "    #gray = cv2.cvtColor(frame, cv2.COLOR_BGR2GRAY)\n",
    "\n",
    "    # Display the resulting frame\n",
    "    #cv2.imshow('frame',gray)\n",
    "    result = tfnet.return_predict(imgcv)\n",
    "    print(result)\n",
    "    if cv2.waitKey(1) & 0xFF == ord('q'):\n",
    "        break\n",
    "\n",
    "# When everything done, release the capture\n",
    "cap.release()\n",
    "cv2.destroyAllWindows()"
   ]
  },
  {
   "cell_type": "code",
   "execution_count": 19,
   "metadata": {},
   "outputs": [
    {
     "ename": "IndentationError",
     "evalue": "expected an indented block (<ipython-input-19-6a0079c6b3bf>, line 18)",
     "output_type": "error",
     "traceback": [
      "\u001b[0;36m  File \u001b[0;32m\"<ipython-input-19-6a0079c6b3bf>\"\u001b[0;36m, line \u001b[0;32m18\u001b[0m\n\u001b[0;31m    ret ,frame = cap.read()\u001b[0m\n\u001b[0m      ^\u001b[0m\n\u001b[0;31mIndentationError\u001b[0m\u001b[0;31m:\u001b[0m expected an indented block\n"
     ]
    }
   ],
   "source": [
    "import numpy as np\n",
    "import cv2\n",
    "cap = cv2.VideoCapture('slow.flv')\n",
    "# take first frame of the video\n",
    "ret,frame = cap.read()\n",
    "# setup initial location of window\n",
    "r,h,c,w = 250,90,400,125 # simply hardcoded the values\n",
    "track_window = (c,r,w,h)\n",
    "# set up the ROI for tracking\n",
    "roi = frame[r:r+h, c:c+w]\n",
    "hsv_roi = cv2.cvtColor(frame, cv2.COLOR_BGR2HSV)\n",
    "mask = cv2.inRange(hsv_roi, np.array((0., 60.,32.)), np.array((180.,255.,255.)))\n",
    "roi_hist = cv2.calcHist([hsv_roi],[0],mask,[180],[0,180])\n",
    "cv2.normalize(roi_hist,roi_hist,0,255,cv2.NORM_MINMAX)\n",
    "# Setup the termination criteria, either 10 iteration or move by atleast 1 pt\n",
    "term_crit = ( cv2.TERM_CRITERIA_EPS | cv2.TERM_CRITERIA_COUNT, 10, 1 )\n",
    "while(1):\n",
    "ret ,frame = cap.read()\n",
    "if ret == True:\n",
    "hsv = cv2.cvtColor(frame, cv2.COLOR_BGR2HSV)\n",
    "dst = cv2.calcBackProject([hsv],[0],roi_hist,[0,180],1)\n",
    "# apply meanshift to get the new location\n",
    "ret, track_window = cv2.meanShift(dst, track_window, term_crit)\n",
    "# Draw it on image\n",
    "x,y,w,h = track_window\n",
    "img2 = cv2.rectangle(frame, (x,y), (x+w,y+h), 255,2)\n",
    "cv2.imshow('img2',img2)\n",
    "k = cv2.waitKey(60) & 0xff\n",
    "if k == 27:\n",
    "break\n",
    "else:\n",
    "cv2.imwrite(chr(k)+\".jpg\",img2)\n",
    "else:\n",
    "break\n",
    "cv2.destroyAllWind"
   ]
  }
 ],
 "metadata": {
  "kernelspec": {
   "display_name": "Python 2",
   "language": "python",
   "name": "python2"
  },
  "language_info": {
   "codemirror_mode": {
    "name": "ipython",
    "version": 2
   },
   "file_extension": ".py",
   "mimetype": "text/x-python",
   "name": "python",
   "nbconvert_exporter": "python",
   "pygments_lexer": "ipython2",
   "version": "2.7.12"
  }
 },
 "nbformat": 4,
 "nbformat_minor": 2
}
